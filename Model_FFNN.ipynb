{
 "cells": [
  {
   "cell_type": "code",
   "execution_count": 1,
   "metadata": {},
   "outputs": [],
   "source": [
    "import numpy as np\n",
    "import tensorflow as tf"
   ]
  },
  {
   "cell_type": "code",
   "execution_count": 2,
   "metadata": {},
   "outputs": [],
   "source": [
    "npz_train = np.load('Audiobooks_data_train.npz')\n",
    "npz_validation = np.load('Audiobooks_data_validation.npz')\n",
    "npz_test = np.load('Audiobooks_data_test.npz')"
   ]
  },
  {
   "cell_type": "code",
   "execution_count": 3,
   "metadata": {},
   "outputs": [],
   "source": [
    "train_inputs = npz_train['inputs'].astype(np.float64)\n",
    "train_targets = npz_train['targets'].astype(np.int32)\n",
    "\n",
    "validation_inputs = npz_validation['inputs'].astype(np.float64)\n",
    "validation_targets = npz_validation['targets'].astype(np.int32)\n",
    "\n",
    "test_inputs = npz_test['inputs'].astype(np.float64)\n",
    "test_targets = npz_test['targets'].astype(np.int32)"
   ]
  },
  {
   "cell_type": "code",
   "execution_count": 4,
   "metadata": {},
   "outputs": [],
   "source": [
    "input_size = 10\n",
    "output_size = 2\n",
    "hidden_layer_size = 10\n",
    "\n",
    "model = tf.keras.Sequential([\n",
    "    tf.keras.layers.Dense(hidden_layer_size, activation='relu'),\n",
    "    tf.keras.layers.Dense(hidden_layer_size, activation='relu'),\n",
    "    tf.keras.layers.Dense(output_size, activation='softmax')\n",
    "])\n",
    "\n",
    "model.compile(optimizer='ADAM', loss='sparse_categorical_crossentropy', metrics=['accuracy'])"
   ]
  },
  {
   "cell_type": "code",
   "execution_count": 5,
   "metadata": {
    "scrolled": true
   },
   "outputs": [
    {
     "name": "stdout",
     "output_type": "stream",
     "text": [
      "Epoch 1/100\n",
      "WARNING:tensorflow:AutoGraph could not transform <function Model.make_train_function.<locals>.train_function at 0x1638a0e50> and will run it as-is.\n",
      "Please report this to the TensorFlow team. When filing the bug, set the verbosity to 10 (on Linux, `export AUTOGRAPH_VERBOSITY=10`) and attach the full output.\n",
      "Cause: unsupported operand type(s) for -: 'NoneType' and 'int'\n",
      "To silence this warning, decorate the function with @tf.autograph.experimental.do_not_convert\n",
      "WARNING: AutoGraph could not transform <function Model.make_train_function.<locals>.train_function at 0x1638a0e50> and will run it as-is.\n",
      "Please report this to the TensorFlow team. When filing the bug, set the verbosity to 10 (on Linux, `export AUTOGRAPH_VERBOSITY=10`) and attach the full output.\n",
      "Cause: unsupported operand type(s) for -: 'NoneType' and 'int'\n",
      "To silence this warning, decorate the function with @tf.autograph.experimental.do_not_convert\n",
      "WARNING:tensorflow:AutoGraph could not transform <function Model.make_test_function.<locals>.test_function at 0x165b5ec10> and will run it as-is.\n",
      "Please report this to the TensorFlow team. When filing the bug, set the verbosity to 10 (on Linux, `export AUTOGRAPH_VERBOSITY=10`) and attach the full output.\n",
      "Cause: unsupported operand type(s) for -: 'NoneType' and 'int'\n",
      "To silence this warning, decorate the function with @tf.autograph.experimental.do_not_convert\n",
      "WARNING: AutoGraph could not transform <function Model.make_test_function.<locals>.test_function at 0x165b5ec10> and will run it as-is.\n",
      "Please report this to the TensorFlow team. When filing the bug, set the verbosity to 10 (on Linux, `export AUTOGRAPH_VERBOSITY=10`) and attach the full output.\n",
      "Cause: unsupported operand type(s) for -: 'NoneType' and 'int'\n",
      "To silence this warning, decorate the function with @tf.autograph.experimental.do_not_convert\n",
      "36/36 - 0s - loss: 0.7193 - accuracy: 0.5753 - val_loss: 0.6925 - val_accuracy: 0.6555\n",
      "Epoch 2/100\n",
      "36/36 - 0s - loss: 0.6249 - accuracy: 0.7661 - val_loss: 0.6121 - val_accuracy: 0.7673\n",
      "Epoch 3/100\n",
      "36/36 - 0s - loss: 0.5573 - accuracy: 0.8145 - val_loss: 0.5478 - val_accuracy: 0.7942\n",
      "Epoch 4/100\n",
      "36/36 - 0s - loss: 0.4937 - accuracy: 0.8335 - val_loss: 0.4900 - val_accuracy: 0.8188\n",
      "Epoch 5/100\n",
      "36/36 - 0s - loss: 0.4380 - accuracy: 0.8483 - val_loss: 0.4468 - val_accuracy: 0.8322\n",
      "Epoch 6/100\n",
      "36/36 - 0s - loss: 0.3956 - accuracy: 0.8614 - val_loss: 0.4192 - val_accuracy: 0.8456\n",
      "Epoch 7/100\n",
      "36/36 - 0s - loss: 0.3661 - accuracy: 0.8698 - val_loss: 0.4022 - val_accuracy: 0.8456\n",
      "Epoch 8/100\n",
      "36/36 - 0s - loss: 0.3465 - accuracy: 0.8740 - val_loss: 0.3899 - val_accuracy: 0.8501\n",
      "Epoch 9/100\n",
      "36/36 - 0s - loss: 0.3327 - accuracy: 0.8796 - val_loss: 0.3808 - val_accuracy: 0.8591\n",
      "Epoch 10/100\n",
      "36/36 - 0s - loss: 0.3222 - accuracy: 0.8815 - val_loss: 0.3720 - val_accuracy: 0.8613\n",
      "Epoch 11/100\n",
      "36/36 - 0s - loss: 0.3139 - accuracy: 0.8824 - val_loss: 0.3636 - val_accuracy: 0.8658\n",
      "Epoch 12/100\n",
      "36/36 - 0s - loss: 0.3074 - accuracy: 0.8840 - val_loss: 0.3566 - val_accuracy: 0.8680\n",
      "Epoch 13/100\n",
      "36/36 - 0s - loss: 0.3010 - accuracy: 0.8854 - val_loss: 0.3530 - val_accuracy: 0.8702\n",
      "Epoch 14/100\n",
      "36/36 - 0s - loss: 0.2958 - accuracy: 0.8885 - val_loss: 0.3469 - val_accuracy: 0.8702\n",
      "Epoch 15/100\n",
      "36/36 - 0s - loss: 0.2915 - accuracy: 0.8888 - val_loss: 0.3420 - val_accuracy: 0.8702\n",
      "Epoch 16/100\n",
      "36/36 - 0s - loss: 0.2875 - accuracy: 0.8916 - val_loss: 0.3380 - val_accuracy: 0.8702\n",
      "Epoch 17/100\n",
      "36/36 - 0s - loss: 0.2842 - accuracy: 0.8933 - val_loss: 0.3340 - val_accuracy: 0.8725\n",
      "Epoch 18/100\n",
      "36/36 - 0s - loss: 0.2809 - accuracy: 0.8944 - val_loss: 0.3321 - val_accuracy: 0.8747\n",
      "Epoch 19/100\n",
      "36/36 - 0s - loss: 0.2777 - accuracy: 0.8958 - val_loss: 0.3264 - val_accuracy: 0.8747\n",
      "Epoch 20/100\n",
      "36/36 - 0s - loss: 0.2752 - accuracy: 0.8963 - val_loss: 0.3253 - val_accuracy: 0.8770\n",
      "Epoch 21/100\n",
      "36/36 - 0s - loss: 0.2721 - accuracy: 0.8975 - val_loss: 0.3217 - val_accuracy: 0.8747\n",
      "Epoch 22/100\n",
      "36/36 - 0s - loss: 0.2697 - accuracy: 0.8983 - val_loss: 0.3197 - val_accuracy: 0.8747\n",
      "Epoch 23/100\n",
      "36/36 - 0s - loss: 0.2677 - accuracy: 0.9005 - val_loss: 0.3180 - val_accuracy: 0.8747\n",
      "Epoch 24/100\n",
      "36/36 - 0s - loss: 0.2651 - accuracy: 0.9014 - val_loss: 0.3154 - val_accuracy: 0.8747\n",
      "Epoch 25/100\n",
      "36/36 - 0s - loss: 0.2634 - accuracy: 0.9019 - val_loss: 0.3139 - val_accuracy: 0.8747\n",
      "Epoch 26/100\n",
      "36/36 - 0s - loss: 0.2609 - accuracy: 0.9025 - val_loss: 0.3129 - val_accuracy: 0.8770\n",
      "Epoch 27/100\n",
      "36/36 - 0s - loss: 0.2599 - accuracy: 0.9030 - val_loss: 0.3110 - val_accuracy: 0.8770\n",
      "Epoch 28/100\n",
      "36/36 - 0s - loss: 0.2579 - accuracy: 0.9044 - val_loss: 0.3090 - val_accuracy: 0.8747\n",
      "Epoch 29/100\n",
      "36/36 - 0s - loss: 0.2568 - accuracy: 0.9039 - val_loss: 0.3072 - val_accuracy: 0.8770\n",
      "Epoch 30/100\n",
      "36/36 - 0s - loss: 0.2554 - accuracy: 0.9028 - val_loss: 0.3065 - val_accuracy: 0.8770\n",
      "Epoch 31/100\n",
      "36/36 - 0s - loss: 0.2534 - accuracy: 0.9047 - val_loss: 0.3053 - val_accuracy: 0.8814\n",
      "Epoch 32/100\n",
      "36/36 - 0s - loss: 0.2528 - accuracy: 0.9053 - val_loss: 0.3032 - val_accuracy: 0.8792\n",
      "Epoch 33/100\n",
      "36/36 - 0s - loss: 0.2514 - accuracy: 0.9067 - val_loss: 0.3031 - val_accuracy: 0.8814\n",
      "Epoch 34/100\n",
      "36/36 - 0s - loss: 0.2500 - accuracy: 0.9064 - val_loss: 0.3023 - val_accuracy: 0.8814\n",
      "Epoch 35/100\n",
      "36/36 - 0s - loss: 0.2487 - accuracy: 0.9072 - val_loss: 0.2997 - val_accuracy: 0.8814\n",
      "Epoch 36/100\n",
      "36/36 - 0s - loss: 0.2476 - accuracy: 0.9070 - val_loss: 0.2981 - val_accuracy: 0.8837\n",
      "Epoch 37/100\n",
      "36/36 - 0s - loss: 0.2475 - accuracy: 0.9092 - val_loss: 0.2978 - val_accuracy: 0.8814\n",
      "Epoch 38/100\n",
      "36/36 - 0s - loss: 0.2462 - accuracy: 0.9081 - val_loss: 0.2957 - val_accuracy: 0.8814\n",
      "Epoch 39/100\n",
      "36/36 - 0s - loss: 0.2447 - accuracy: 0.9084 - val_loss: 0.2961 - val_accuracy: 0.8837\n",
      "Epoch 40/100\n",
      "36/36 - 0s - loss: 0.2440 - accuracy: 0.9095 - val_loss: 0.2943 - val_accuracy: 0.8837\n",
      "Epoch 41/100\n",
      "36/36 - 0s - loss: 0.2430 - accuracy: 0.9100 - val_loss: 0.2945 - val_accuracy: 0.8814\n",
      "Epoch 42/100\n",
      "36/36 - 0s - loss: 0.2419 - accuracy: 0.9100 - val_loss: 0.2934 - val_accuracy: 0.8837\n",
      "Epoch 43/100\n",
      "36/36 - 0s - loss: 0.2407 - accuracy: 0.9086 - val_loss: 0.2922 - val_accuracy: 0.8792\n",
      "Epoch 44/100\n",
      "36/36 - 0s - loss: 0.2398 - accuracy: 0.9117 - val_loss: 0.2900 - val_accuracy: 0.8814\n",
      "Epoch 45/100\n",
      "36/36 - 0s - loss: 0.2389 - accuracy: 0.9109 - val_loss: 0.2877 - val_accuracy: 0.8859\n",
      "Epoch 46/100\n",
      "36/36 - 0s - loss: 0.2379 - accuracy: 0.9120 - val_loss: 0.2894 - val_accuracy: 0.8837\n",
      "Epoch 47/100\n",
      "36/36 - 0s - loss: 0.2372 - accuracy: 0.9114 - val_loss: 0.2874 - val_accuracy: 0.8859\n",
      "Epoch 48/100\n",
      "36/36 - 0s - loss: 0.2365 - accuracy: 0.9125 - val_loss: 0.2884 - val_accuracy: 0.8881\n",
      "Epoch 49/100\n",
      "36/36 - 0s - loss: 0.2352 - accuracy: 0.9131 - val_loss: 0.2843 - val_accuracy: 0.8881\n",
      "Epoch 50/100\n",
      "36/36 - 0s - loss: 0.2350 - accuracy: 0.9125 - val_loss: 0.2832 - val_accuracy: 0.8881\n",
      "Epoch 51/100\n",
      "36/36 - 0s - loss: 0.2343 - accuracy: 0.9114 - val_loss: 0.2845 - val_accuracy: 0.8881\n",
      "Epoch 52/100\n",
      "36/36 - 0s - loss: 0.2338 - accuracy: 0.9128 - val_loss: 0.2834 - val_accuracy: 0.8881\n"
     ]
    },
    {
     "data": {
      "text/plain": [
       "<tensorflow.python.keras.callbacks.History at 0x163afa0a0>"
      ]
     },
     "execution_count": 5,
     "metadata": {},
     "output_type": "execute_result"
    }
   ],
   "source": [
    "early_stopping = tf.keras.callbacks.EarlyStopping(patience=2)\n",
    "\n",
    "model.fit(train_inputs, \n",
    "          train_targets, \n",
    "          batch_size=100, \n",
    "          epochs=100, \n",
    "          callbacks=[early_stopping], \n",
    "          validation_data=(validation_inputs, validation_targets), \n",
    "          verbose=2)"
   ]
  },
  {
   "cell_type": "code",
   "execution_count": null,
   "metadata": {},
   "outputs": [],
   "source": [
    "model.evaluate(test_inputs, test_targets)"
   ]
  },
  {
   "cell_type": "code",
   "execution_count": null,
   "metadata": {},
   "outputs": [],
   "source": []
  }
 ],
 "metadata": {
  "interpreter": {
   "hash": "6b9de194db2ce00082d08df82210f888e07f8d8447ae1474f1c613fa4e6fd7ee"
  },
  "kernelspec": {
   "display_name": "Python 3.8.12 64-bit ('tf_m1_env': conda)",
   "language": "python",
   "name": "python3812jvsc74a57bd06b9de194db2ce00082d08df82210f888e07f8d8447ae1474f1c613fa4e6fd7ee"
  },
  "language_info": {
   "codemirror_mode": {
    "name": "ipython",
    "version": 3
   },
   "file_extension": ".py",
   "mimetype": "text/x-python",
   "name": "python",
   "nbconvert_exporter": "python",
   "pygments_lexer": "ipython3",
   "version": "3.8.12"
  }
 },
 "nbformat": 4,
 "nbformat_minor": 2
}
