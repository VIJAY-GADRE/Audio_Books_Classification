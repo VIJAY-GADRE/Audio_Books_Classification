{
 "cells": [
  {
   "cell_type": "markdown",
   "metadata": {},
   "source": [
    "# Import the relevant libraries"
   ]
  },
  {
   "cell_type": "code",
   "execution_count": 1,
   "metadata": {},
   "outputs": [],
   "source": [
    "import numpy as np\n",
    "import tensorflow as tf"
   ]
  },
  {
   "cell_type": "markdown",
   "metadata": {},
   "source": [
    "# Load the Data"
   ]
  },
  {
   "cell_type": "code",
   "execution_count": 2,
   "metadata": {},
   "outputs": [],
   "source": [
    "npz_train = np.load('Audiobooks_data_train.npz')\n",
    "npz_validation = np.load('Audiobooks_data_validation.npz')\n",
    "npz_test = np.load('Audiobooks_data_test.npz')"
   ]
  },
  {
   "cell_type": "markdown",
   "metadata": {},
   "source": [
    "# Extract the Inputs and Targets"
   ]
  },
  {
   "cell_type": "code",
   "execution_count": 3,
   "metadata": {},
   "outputs": [],
   "source": [
    "train_inputs = npz_train['inputs'].astype(np.float64)\n",
    "train_targets = npz_train['targets'].astype(np.int32)\n",
    "\n",
    "validation_inputs = npz_validation['inputs'].astype(np.float64)\n",
    "validation_targets = npz_validation['targets'].astype(np.int32)\n",
    "\n",
    "test_inputs = npz_test['inputs'].astype(np.float64)\n",
    "test_targets = npz_test['targets'].astype(np.int32)"
   ]
  },
  {
   "cell_type": "markdown",
   "metadata": {},
   "source": [
    "# Model (Feed-Forward NN)"
   ]
  },
  {
   "cell_type": "code",
   "execution_count": 4,
   "metadata": {},
   "outputs": [],
   "source": [
    "input_size = 10\n",
    "output_size = 2\n",
    "hidden_layer_size = 10\n",
    "\n",
    "model = tf.keras.Sequential([\n",
    "    tf.keras.layers.Dense(hidden_layer_size, activation='relu'),\n",
    "    tf.keras.layers.Dense(hidden_layer_size, activation='relu'),\n",
    "    tf.keras.layers.Dense(output_size, activation='softmax')\n",
    "])\n",
    "\n",
    "model.compile(optimizer='ADAM', loss='sparse_categorical_crossentropy', metrics=['accuracy'])"
   ]
  },
  {
   "cell_type": "code",
   "execution_count": 5,
   "metadata": {
    "scrolled": true
   },
   "outputs": [
    {
     "name": "stdout",
     "output_type": "stream",
     "text": [
      "Epoch 1/100\n",
      "36/36 - 0s - loss: 0.7476 - accuracy: 0.5440 - val_loss: 0.6283 - val_accuracy: 0.6331\n",
      "Epoch 2/100\n",
      "36/36 - 0s - loss: 0.6061 - accuracy: 0.6960 - val_loss: 0.5474 - val_accuracy: 0.7808\n",
      "Epoch 3/100\n",
      "36/36 - 0s - loss: 0.5304 - accuracy: 0.7985 - val_loss: 0.4898 - val_accuracy: 0.8300\n",
      "Epoch 4/100\n",
      "36/36 - 0s - loss: 0.4747 - accuracy: 0.8410 - val_loss: 0.4414 - val_accuracy: 0.8680\n",
      "Epoch 5/100\n",
      "36/36 - 0s - loss: 0.4329 - accuracy: 0.8564 - val_loss: 0.4019 - val_accuracy: 0.8792\n",
      "Epoch 6/100\n",
      "36/36 - 0s - loss: 0.3995 - accuracy: 0.8650 - val_loss: 0.3723 - val_accuracy: 0.8837\n",
      "Epoch 7/100\n",
      "36/36 - 0s - loss: 0.3730 - accuracy: 0.8715 - val_loss: 0.3494 - val_accuracy: 0.8814\n",
      "Epoch 8/100\n",
      "36/36 - 0s - loss: 0.3540 - accuracy: 0.8745 - val_loss: 0.3335 - val_accuracy: 0.8814\n",
      "Epoch 9/100\n",
      "36/36 - 0s - loss: 0.3396 - accuracy: 0.8785 - val_loss: 0.3219 - val_accuracy: 0.8837\n",
      "Epoch 10/100\n",
      "36/36 - 0s - loss: 0.3278 - accuracy: 0.8818 - val_loss: 0.3117 - val_accuracy: 0.8881\n",
      "Epoch 11/100\n",
      "36/36 - 0s - loss: 0.3185 - accuracy: 0.8854 - val_loss: 0.3029 - val_accuracy: 0.8881\n",
      "Epoch 12/100\n",
      "36/36 - 0s - loss: 0.3099 - accuracy: 0.8857 - val_loss: 0.2956 - val_accuracy: 0.8881\n",
      "Epoch 13/100\n",
      "36/36 - 0s - loss: 0.3021 - accuracy: 0.8885 - val_loss: 0.2888 - val_accuracy: 0.8926\n",
      "Epoch 14/100\n",
      "36/36 - 0s - loss: 0.2957 - accuracy: 0.8924 - val_loss: 0.2834 - val_accuracy: 0.8926\n",
      "Epoch 15/100\n",
      "36/36 - 0s - loss: 0.2902 - accuracy: 0.8941 - val_loss: 0.2794 - val_accuracy: 0.8971\n",
      "Epoch 16/100\n",
      "36/36 - 0s - loss: 0.2859 - accuracy: 0.8949 - val_loss: 0.2754 - val_accuracy: 0.9016\n",
      "Epoch 17/100\n",
      "36/36 - 0s - loss: 0.2816 - accuracy: 0.8969 - val_loss: 0.2716 - val_accuracy: 0.9016\n",
      "Epoch 18/100\n",
      "36/36 - 0s - loss: 0.2779 - accuracy: 0.8977 - val_loss: 0.2681 - val_accuracy: 0.8971\n",
      "Epoch 19/100\n",
      "36/36 - 0s - loss: 0.2751 - accuracy: 0.8989 - val_loss: 0.2650 - val_accuracy: 0.9038\n",
      "Epoch 20/100\n",
      "36/36 - 0s - loss: 0.2720 - accuracy: 0.8991 - val_loss: 0.2618 - val_accuracy: 0.9016\n",
      "Epoch 21/100\n",
      "36/36 - 0s - loss: 0.2693 - accuracy: 0.8991 - val_loss: 0.2590 - val_accuracy: 0.9016\n",
      "Epoch 22/100\n",
      "36/36 - 0s - loss: 0.2673 - accuracy: 0.8994 - val_loss: 0.2562 - val_accuracy: 0.9038\n",
      "Epoch 23/100\n",
      "36/36 - 0s - loss: 0.2643 - accuracy: 0.9005 - val_loss: 0.2547 - val_accuracy: 0.8993\n",
      "Epoch 24/100\n",
      "36/36 - 0s - loss: 0.2622 - accuracy: 0.9014 - val_loss: 0.2527 - val_accuracy: 0.8993\n",
      "Epoch 25/100\n",
      "36/36 - 0s - loss: 0.2606 - accuracy: 0.9025 - val_loss: 0.2512 - val_accuracy: 0.9038\n",
      "Epoch 26/100\n",
      "36/36 - 0s - loss: 0.2584 - accuracy: 0.9050 - val_loss: 0.2503 - val_accuracy: 0.9128\n",
      "Epoch 27/100\n",
      "36/36 - 0s - loss: 0.2566 - accuracy: 0.9042 - val_loss: 0.2490 - val_accuracy: 0.9060\n",
      "Epoch 28/100\n",
      "36/36 - 0s - loss: 0.2548 - accuracy: 0.9056 - val_loss: 0.2469 - val_accuracy: 0.9105\n",
      "Epoch 29/100\n",
      "36/36 - 0s - loss: 0.2533 - accuracy: 0.9072 - val_loss: 0.2471 - val_accuracy: 0.9105\n",
      "Epoch 30/100\n",
      "36/36 - 0s - loss: 0.2519 - accuracy: 0.9067 - val_loss: 0.2464 - val_accuracy: 0.9038\n",
      "Epoch 31/100\n",
      "36/36 - 0s - loss: 0.2506 - accuracy: 0.9084 - val_loss: 0.2443 - val_accuracy: 0.9083\n",
      "Epoch 32/100\n",
      "36/36 - 0s - loss: 0.2488 - accuracy: 0.9075 - val_loss: 0.2440 - val_accuracy: 0.9083\n",
      "Epoch 33/100\n",
      "36/36 - 0s - loss: 0.2482 - accuracy: 0.9089 - val_loss: 0.2425 - val_accuracy: 0.9083\n",
      "Epoch 34/100\n",
      "36/36 - 0s - loss: 0.2468 - accuracy: 0.9092 - val_loss: 0.2421 - val_accuracy: 0.9128\n",
      "Epoch 35/100\n",
      "36/36 - 0s - loss: 0.2459 - accuracy: 0.9092 - val_loss: 0.2417 - val_accuracy: 0.9128\n",
      "Epoch 36/100\n",
      "36/36 - 0s - loss: 0.2444 - accuracy: 0.9098 - val_loss: 0.2405 - val_accuracy: 0.9128\n",
      "Epoch 37/100\n",
      "36/36 - 0s - loss: 0.2438 - accuracy: 0.9095 - val_loss: 0.2405 - val_accuracy: 0.9128\n",
      "Epoch 38/100\n",
      "36/36 - 0s - loss: 0.2434 - accuracy: 0.9106 - val_loss: 0.2405 - val_accuracy: 0.9128\n"
     ]
    },
    {
     "data": {
      "text/plain": [
       "<keras.callbacks.History at 0x27ee74ce580>"
      ]
     },
     "execution_count": 5,
     "metadata": {},
     "output_type": "execute_result"
    }
   ],
   "source": [
    "early_stopping = tf.keras.callbacks.EarlyStopping(patience=2)\n",
    "\n",
    "model.fit(train_inputs, \n",
    "          train_targets, \n",
    "          batch_size=100, \n",
    "          epochs=100, \n",
    "          callbacks=[early_stopping], \n",
    "          validation_data=(validation_inputs, validation_targets), \n",
    "          verbose=2)"
   ]
  },
  {
   "cell_type": "code",
   "execution_count": 6,
   "metadata": {},
   "outputs": [
    {
     "name": "stdout",
     "output_type": "stream",
     "text": [
      "14/14 [==============================] - 0s 1ms/step - loss: 0.2258 - accuracy: 0.9241\n"
     ]
    }
   ],
   "source": [
    "test_loss, test_accuracy =  model.evaluate(test_inputs, test_targets)"
   ]
  },
  {
   "cell_type": "code",
   "execution_count": 7,
   "metadata": {},
   "outputs": [
    {
     "name": "stdout",
     "output_type": "stream",
     "text": [
      "Test Loss is:  0.22576718032360077 \n",
      "Test Accuracy is:  0.9241071343421936\n"
     ]
    }
   ],
   "source": [
    "print(\"Test Loss is: \", test_loss,\n",
    "     \"\\nTest Accuracy is: \", test_accuracy)"
   ]
  }
 ],
 "metadata": {
  "interpreter": {
   "hash": "6b9de194db2ce00082d08df82210f888e07f8d8447ae1474f1c613fa4e6fd7ee"
  },
  "kernelspec": {
   "display_name": "Python 3",
   "language": "python",
   "name": "python3"
  },
  "language_info": {
   "codemirror_mode": {
    "name": "ipython",
    "version": 3
   },
   "file_extension": ".py",
   "mimetype": "text/x-python",
   "name": "python",
   "nbconvert_exporter": "python",
   "pygments_lexer": "ipython3",
   "version": "3.8.8"
  }
 },
 "nbformat": 4,
 "nbformat_minor": 2
}
