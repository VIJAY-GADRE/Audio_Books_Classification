{
 "cells": [
  {
   "cell_type": "code",
   "execution_count": 1,
   "metadata": {},
   "outputs": [],
   "source": [
    "import numpy as np\n",
    "import tensorflow as tf"
   ]
  },
  {
   "cell_type": "code",
   "execution_count": 2,
   "metadata": {},
   "outputs": [],
   "source": [
    "raw_Data = np.loadtxt('Audiobooks_data.csv', delimiter=',')\n",
    "\n",
    "unscaled_inputs = raw_Data[:, 1:-1]\n",
    "targets = raw_Data[:, -1]"
   ]
  },
  {
   "cell_type": "code",
   "execution_count": 3,
   "metadata": {},
   "outputs": [],
   "source": [
    "num_of_ones = int(np.sum(targets))\n",
    "zero_targets_counter = 0\n",
    "indices_to_remove = []\n",
    "\n",
    "for i in range(targets.shape[0]):\n",
    "    if targets[i] == 0:\n",
    "        zero_targets_counter += 1\n",
    "        if zero_targets_counter > num_of_ones:\n",
    "            indices_to_remove.append(i)\n",
    "\n",
    "unscaled_inputs_equal_prior = np.delete(unscaled_inputs, indices_to_remove, axis=0)\n",
    "targets_equal_prior = np.delete(targets, indices_to_remove, axis=0)"
   ]
  },
  {
   "cell_type": "code",
   "execution_count": 4,
   "metadata": {},
   "outputs": [],
   "source": [
    "from sklearn.preprocessing import scale\n",
    "scaled_inputs = scale(X=unscaled_inputs_equal_prior)"
   ]
  },
  {
   "cell_type": "code",
   "execution_count": 5,
   "metadata": {},
   "outputs": [],
   "source": [
    "shuffled_indicies = np.arange(scaled_inputs.shape[0])\n",
    "np.random.shuffle(shuffled_indicies)\n",
    "\n",
    "shuffled_inputs = scaled_inputs[shuffled_indicies]\n",
    "shuffled_targets = targets_equal_prior[shuffled_indicies]"
   ]
  },
  {
   "cell_type": "code",
   "execution_count": 6,
   "metadata": {},
   "outputs": [
    {
     "name": "stdout",
     "output_type": "stream",
     "text": [
      "1776.0 3579 0.49622799664710815\n",
      "242.0 447 0.5413870246085011\n",
      "219.0 448 0.4888392857142857\n"
     ]
    }
   ],
   "source": [
    "samples_count = shuffled_indicies.shape[0]\n",
    "\n",
    "train_samples_count = int(0.8 * samples_count)\n",
    "validation_samples_count = int(0.1 * samples_count)\n",
    "test_samples_count = samples_count - train_samples_count - validation_samples_count\n",
    "\n",
    "train_inputs = shuffled_inputs[:train_samples_count]\n",
    "train_targets = shuffled_targets[:train_samples_count]\n",
    "\n",
    "validation_inputs = shuffled_inputs[train_samples_count : train_samples_count + validation_samples_count]\n",
    "validation_targets = shuffled_targets[train_samples_count : train_samples_count + validation_samples_count]\n",
    "\n",
    "test_inputs = shuffled_inputs[train_samples_count + validation_samples_count :]\n",
    "test_targets = shuffled_targets[train_samples_count + validation_samples_count :]\n",
    "\n",
    "print(np.sum(train_targets), train_samples_count, (np.sum(train_targets) / train_samples_count))\n",
    "print(np.sum(validation_targets), validation_samples_count, (np.sum(validation_targets) / validation_samples_count))\n",
    "print(np.sum(test_targets), test_samples_count, (np.sum(test_targets) / test_samples_count))"
   ]
  },
  {
   "cell_type": "code",
   "execution_count": 7,
   "metadata": {},
   "outputs": [],
   "source": [
    "np.savez('Audiobooks_data_train', inputs=train_inputs, targets=train_targets)\n",
    "np.savez('Audiobooks_data_validation', inputs=validation_inputs, targets=validation_targets)\n",
    "np.savez('Audiobooks_data_test', inputs=test_inputs, targets=test_targets)"
   ]
  },
  {
   "cell_type": "code",
   "execution_count": null,
   "metadata": {},
   "outputs": [],
   "source": []
  },
  {
   "cell_type": "code",
   "execution_count": 8,
   "metadata": {},
   "outputs": [],
   "source": [
    "npz_train = np.load('Audiobooks_data_train.npz')\n",
    "npz_validation = np.load('Audiobooks_data_validation.npz')\n",
    "npz_test = np.load('Audiobooks_data_test.npz')"
   ]
  },
  {
   "cell_type": "code",
   "execution_count": 9,
   "metadata": {},
   "outputs": [],
   "source": [
    "train_inputs = npz_train['inputs'].astype(np.float64)\n",
    "train_targets = npz_train['targets'].astype(np.int32)\n",
    "\n",
    "validation_inputs = npz_validation['inputs'].astype(np.float64)\n",
    "validation_targets = npz_validation['targets'].astype(np.int32)\n",
    "\n",
    "test_inputs = npz_test['inputs'].astype(np.float64)\n",
    "test_targets = npz_test['targets'].astype(np.int32)"
   ]
  },
  {
   "cell_type": "code",
   "execution_count": 10,
   "metadata": {},
   "outputs": [],
   "source": [
    "input_size = 10\n",
    "output_size = 2\n",
    "hidden_layer_size = 10\n",
    "\n",
    "model = tf.keras.Sequential([\n",
    "    tf.keras.layers.Dense(hidden_layer_size, activation='relu'),\n",
    "    tf.keras.layers.Dense(hidden_layer_size, activation='relu'),\n",
    "    tf.keras.layers.Dense(output_size, activation='softmax')\n",
    "])\n",
    "\n",
    "model.compile(optimizer='ADAM', loss='sparse_categorical_crossentropy', metrics=['accuracy'])"
   ]
  },
  {
   "cell_type": "code",
   "execution_count": 11,
   "metadata": {},
   "outputs": [
    {
     "name": "stdout",
     "output_type": "stream",
     "text": [
      "Epoch 1/100\n",
      "WARNING:tensorflow:AutoGraph could not transform <function Model.make_train_function.<locals>.train_function at 0x163c4ed30> and will run it as-is.\n",
      "Please report this to the TensorFlow team. When filing the bug, set the verbosity to 10 (on Linux, `export AUTOGRAPH_VERBOSITY=10`) and attach the full output.\n",
      "Cause: unsupported operand type(s) for -: 'NoneType' and 'int'\n",
      "To silence this warning, decorate the function with @tf.autograph.experimental.do_not_convert\n",
      "WARNING: AutoGraph could not transform <function Model.make_train_function.<locals>.train_function at 0x163c4ed30> and will run it as-is.\n",
      "Please report this to the TensorFlow team. When filing the bug, set the verbosity to 10 (on Linux, `export AUTOGRAPH_VERBOSITY=10`) and attach the full output.\n",
      "Cause: unsupported operand type(s) for -: 'NoneType' and 'int'\n",
      "To silence this warning, decorate the function with @tf.autograph.experimental.do_not_convert\n",
      "WARNING:tensorflow:AutoGraph could not transform <function Model.make_test_function.<locals>.test_function at 0x167f55280> and will run it as-is.\n",
      "Please report this to the TensorFlow team. When filing the bug, set the verbosity to 10 (on Linux, `export AUTOGRAPH_VERBOSITY=10`) and attach the full output.\n",
      "Cause: unsupported operand type(s) for -: 'NoneType' and 'int'\n",
      "To silence this warning, decorate the function with @tf.autograph.experimental.do_not_convert\n",
      "WARNING: AutoGraph could not transform <function Model.make_test_function.<locals>.test_function at 0x167f55280> and will run it as-is.\n",
      "Please report this to the TensorFlow team. When filing the bug, set the verbosity to 10 (on Linux, `export AUTOGRAPH_VERBOSITY=10`) and attach the full output.\n",
      "Cause: unsupported operand type(s) for -: 'NoneType' and 'int'\n",
      "To silence this warning, decorate the function with @tf.autograph.experimental.do_not_convert\n",
      "36/36 - 0s - loss: 0.8247 - accuracy: 0.4778 - val_loss: 0.7690 - val_accuracy: 0.5593\n",
      "Epoch 2/100\n",
      "36/36 - 0s - loss: 0.6912 - accuracy: 0.6407 - val_loss: 0.6607 - val_accuracy: 0.6622\n",
      "Epoch 3/100\n",
      "36/36 - 0s - loss: 0.6050 - accuracy: 0.7290 - val_loss: 0.5871 - val_accuracy: 0.7271\n",
      "Epoch 4/100\n",
      "36/36 - 0s - loss: 0.5406 - accuracy: 0.7977 - val_loss: 0.5299 - val_accuracy: 0.8098\n",
      "Epoch 5/100\n",
      "36/36 - 0s - loss: 0.4896 - accuracy: 0.8438 - val_loss: 0.4812 - val_accuracy: 0.8479\n",
      "Epoch 6/100\n",
      "36/36 - 0s - loss: 0.4476 - accuracy: 0.8564 - val_loss: 0.4406 - val_accuracy: 0.8568\n",
      "Epoch 7/100\n",
      "36/36 - 0s - loss: 0.4161 - accuracy: 0.8611 - val_loss: 0.4109 - val_accuracy: 0.8613\n",
      "Epoch 8/100\n",
      "36/36 - 0s - loss: 0.3926 - accuracy: 0.8653 - val_loss: 0.3895 - val_accuracy: 0.8635\n",
      "Epoch 9/100\n",
      "36/36 - 0s - loss: 0.3744 - accuracy: 0.8715 - val_loss: 0.3736 - val_accuracy: 0.8613\n",
      "Epoch 10/100\n",
      "36/36 - 0s - loss: 0.3599 - accuracy: 0.8737 - val_loss: 0.3614 - val_accuracy: 0.8613\n",
      "Epoch 11/100\n",
      "36/36 - 0s - loss: 0.3475 - accuracy: 0.8776 - val_loss: 0.3530 - val_accuracy: 0.8635\n",
      "Epoch 12/100\n",
      "36/36 - 0s - loss: 0.3377 - accuracy: 0.8804 - val_loss: 0.3459 - val_accuracy: 0.8658\n",
      "Epoch 13/100\n",
      "36/36 - 0s - loss: 0.3294 - accuracy: 0.8818 - val_loss: 0.3401 - val_accuracy: 0.8680\n",
      "Epoch 14/100\n",
      "36/36 - 0s - loss: 0.3213 - accuracy: 0.8846 - val_loss: 0.3345 - val_accuracy: 0.8702\n",
      "Epoch 15/100\n",
      "36/36 - 0s - loss: 0.3154 - accuracy: 0.8846 - val_loss: 0.3308 - val_accuracy: 0.8702\n",
      "Epoch 16/100\n",
      "36/36 - 0s - loss: 0.3094 - accuracy: 0.8874 - val_loss: 0.3247 - val_accuracy: 0.8702\n",
      "Epoch 17/100\n",
      "36/36 - 0s - loss: 0.3045 - accuracy: 0.8874 - val_loss: 0.3222 - val_accuracy: 0.8747\n",
      "Epoch 18/100\n",
      "36/36 - 0s - loss: 0.2998 - accuracy: 0.8899 - val_loss: 0.3171 - val_accuracy: 0.8725\n",
      "Epoch 19/100\n",
      "36/36 - 0s - loss: 0.2942 - accuracy: 0.8921 - val_loss: 0.3130 - val_accuracy: 0.8747\n",
      "Epoch 20/100\n",
      "36/36 - 0s - loss: 0.2903 - accuracy: 0.8919 - val_loss: 0.3095 - val_accuracy: 0.8747\n",
      "Epoch 21/100\n",
      "36/36 - 0s - loss: 0.2867 - accuracy: 0.8935 - val_loss: 0.3061 - val_accuracy: 0.8770\n",
      "Epoch 22/100\n",
      "36/36 - 0s - loss: 0.2835 - accuracy: 0.8933 - val_loss: 0.3038 - val_accuracy: 0.8770\n",
      "Epoch 23/100\n",
      "36/36 - 0s - loss: 0.2806 - accuracy: 0.8949 - val_loss: 0.2993 - val_accuracy: 0.8814\n",
      "Epoch 24/100\n",
      "36/36 - 0s - loss: 0.2769 - accuracy: 0.8983 - val_loss: 0.2975 - val_accuracy: 0.8770\n",
      "Epoch 25/100\n",
      "36/36 - 0s - loss: 0.2746 - accuracy: 0.8977 - val_loss: 0.2963 - val_accuracy: 0.8814\n",
      "Epoch 26/100\n",
      "36/36 - 0s - loss: 0.2715 - accuracy: 0.8983 - val_loss: 0.2925 - val_accuracy: 0.8814\n",
      "Epoch 27/100\n",
      "36/36 - 0s - loss: 0.2693 - accuracy: 0.8997 - val_loss: 0.2901 - val_accuracy: 0.8837\n",
      "Epoch 28/100\n",
      "36/36 - 0s - loss: 0.2663 - accuracy: 0.9000 - val_loss: 0.2867 - val_accuracy: 0.8859\n",
      "Epoch 29/100\n",
      "36/36 - 0s - loss: 0.2648 - accuracy: 0.9000 - val_loss: 0.2841 - val_accuracy: 0.8859\n",
      "Epoch 30/100\n",
      "36/36 - 0s - loss: 0.2620 - accuracy: 0.9025 - val_loss: 0.2834 - val_accuracy: 0.8859\n",
      "Epoch 31/100\n",
      "36/36 - 0s - loss: 0.2608 - accuracy: 0.9022 - val_loss: 0.2810 - val_accuracy: 0.8881\n",
      "Epoch 32/100\n",
      "36/36 - 0s - loss: 0.2591 - accuracy: 0.9033 - val_loss: 0.2805 - val_accuracy: 0.8971\n",
      "Epoch 33/100\n",
      "36/36 - 0s - loss: 0.2570 - accuracy: 0.9042 - val_loss: 0.2782 - val_accuracy: 0.8926\n",
      "Epoch 34/100\n",
      "36/36 - 0s - loss: 0.2559 - accuracy: 0.9036 - val_loss: 0.2767 - val_accuracy: 0.8904\n",
      "Epoch 35/100\n",
      "36/36 - 0s - loss: 0.2541 - accuracy: 0.9064 - val_loss: 0.2766 - val_accuracy: 0.8971\n",
      "Epoch 36/100\n",
      "36/36 - 0s - loss: 0.2531 - accuracy: 0.9064 - val_loss: 0.2769 - val_accuracy: 0.8949\n"
     ]
    },
    {
     "data": {
      "text/plain": [
       "<tensorflow.python.keras.callbacks.History at 0x1656b9430>"
      ]
     },
     "execution_count": 11,
     "metadata": {},
     "output_type": "execute_result"
    }
   ],
   "source": [
    "early_stopping = tf.keras.callbacks.EarlyStopping()\n",
    "\n",
    "model.fit(train_inputs, \n",
    "          train_targets, \n",
    "          batch_size=100, \n",
    "          epochs=100, \n",
    "          callbacks=[early_stopping], \n",
    "          validation_data=(validation_inputs, validation_targets), \n",
    "          verbose=2)"
   ]
  },
  {
   "cell_type": "code",
   "execution_count": null,
   "metadata": {},
   "outputs": [],
   "source": [
    "model.evaluate(test_inputs, test_targets)"
   ]
  },
  {
   "cell_type": "code",
   "execution_count": null,
   "metadata": {},
   "outputs": [],
   "source": []
  }
 ],
 "metadata": {
  "interpreter": {
   "hash": "d2f06184ce90ee930cdc35773c6b612d87130e18ca930ce097c550664628ad83"
  },
  "kernelspec": {
   "display_name": "Python 3.8.12 64-bit ('tf_m1_env': conda)",
   "language": "python",
   "name": "python3812jvsc74a57bd06b9de194db2ce00082d08df82210f888e07f8d8447ae1474f1c613fa4e6fd7ee"
  },
  "language_info": {
   "codemirror_mode": {
    "name": "ipython",
    "version": 3
   },
   "file_extension": ".py",
   "mimetype": "text/x-python",
   "name": "python",
   "nbconvert_exporter": "python",
   "pygments_lexer": "ipython3",
   "version": "3.8.12"
  }
 },
 "nbformat": 4,
 "nbformat_minor": 2
}
