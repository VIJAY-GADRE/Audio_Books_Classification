{
 "cells": [
  {
   "cell_type": "markdown",
   "metadata": {},
   "source": [
    "# Import the relevant libraries"
   ]
  },
  {
   "cell_type": "code",
   "execution_count": 1,
   "metadata": {},
   "outputs": [],
   "source": [
    "import numpy as np"
   ]
  },
  {
   "cell_type": "markdown",
   "metadata": {},
   "source": [
    "# Data Preprocessing"
   ]
  },
  {
   "cell_type": "markdown",
   "metadata": {},
   "source": [
    "### Load the Dataset"
   ]
  },
  {
   "cell_type": "code",
   "execution_count": 2,
   "metadata": {},
   "outputs": [],
   "source": [
    "raw_Data = np.loadtxt('Audiobooks_data.csv', delimiter=',')\n",
    "\n",
    "unscaled_inputs = raw_Data[:, 1:-1]\n",
    "targets = raw_Data[:, -1]"
   ]
  },
  {
   "cell_type": "markdown",
   "metadata": {},
   "source": [
    "### Balance the dataset"
   ]
  },
  {
   "cell_type": "code",
   "execution_count": 3,
   "metadata": {},
   "outputs": [],
   "source": [
    "num_of_ones = int(np.sum(targets))\n",
    "zero_targets_counter = 0\n",
    "indices_to_remove = []\n",
    "\n",
    "for i in range(targets.shape[0]):\n",
    "    if targets[i] == 0:\n",
    "        zero_targets_counter += 1\n",
    "        if zero_targets_counter > num_of_ones:\n",
    "            indices_to_remove.append(i)\n",
    "\n",
    "unscaled_inputs_equal_prior = np.delete(unscaled_inputs, indices_to_remove, axis=0)\n",
    "targets_equal_prior = np.delete(targets, indices_to_remove, axis=0)"
   ]
  },
  {
   "cell_type": "markdown",
   "metadata": {},
   "source": [
    "### Standardize the Inputs"
   ]
  },
  {
   "cell_type": "code",
   "execution_count": 4,
   "metadata": {},
   "outputs": [],
   "source": [
    "from sklearn.preprocessing import scale\n",
    "scaled_inputs = scale(X=unscaled_inputs_equal_prior)"
   ]
  },
  {
   "cell_type": "markdown",
   "metadata": {},
   "source": [
    "### Shuffle the Data "
   ]
  },
  {
   "cell_type": "code",
   "execution_count": 5,
   "metadata": {},
   "outputs": [],
   "source": [
    "shuffled_indicies = np.arange(scaled_inputs.shape[0])\n",
    "np.random.shuffle(shuffled_indicies)\n",
    "\n",
    "shuffled_inputs = scaled_inputs[shuffled_indicies]\n",
    "shuffled_targets = targets_equal_prior[shuffled_indicies]"
   ]
  },
  {
   "cell_type": "markdown",
   "metadata": {},
   "source": [
    "### Split the dataset into training, validation and testing"
   ]
  },
  {
   "cell_type": "code",
   "execution_count": 6,
   "metadata": {},
   "outputs": [
    {
     "name": "stdout",
     "output_type": "stream",
     "text": [
      "1768.0 3579 0.49399273540095\n",
      "232.0 447 0.5190156599552572\n",
      "237.0 448 0.5290178571428571\n"
     ]
    }
   ],
   "source": [
    "samples_count = shuffled_indicies.shape[0]\n",
    "\n",
    "train_samples_count = int(0.8 * samples_count)\n",
    "validation_samples_count = int(0.1 * samples_count)\n",
    "test_samples_count = samples_count - train_samples_count - validation_samples_count\n",
    "\n",
    "train_inputs = shuffled_inputs[:train_samples_count]\n",
    "train_targets = shuffled_targets[:train_samples_count]\n",
    "\n",
    "validation_inputs = shuffled_inputs[train_samples_count : train_samples_count + validation_samples_count]\n",
    "validation_targets = shuffled_targets[train_samples_count : train_samples_count + validation_samples_count]\n",
    "\n",
    "test_inputs = shuffled_inputs[train_samples_count + validation_samples_count :]\n",
    "test_targets = shuffled_targets[train_samples_count + validation_samples_count :]\n",
    "\n",
    "print(np.sum(train_targets), train_samples_count, (np.sum(train_targets) / train_samples_count))\n",
    "print(np.sum(validation_targets), validation_samples_count, (np.sum(validation_targets) / validation_samples_count))\n",
    "print(np.sum(test_targets), test_samples_count, (np.sum(test_targets) / test_samples_count))"
   ]
  },
  {
   "cell_type": "markdown",
   "metadata": {},
   "source": [
    "### Save the Dataset in .npz file"
   ]
  },
  {
   "cell_type": "code",
   "execution_count": 7,
   "metadata": {},
   "outputs": [],
   "source": [
    "np.savez('Audiobooks_data_train', inputs=train_inputs, targets=train_targets)\n",
    "np.savez('Audiobooks_data_validation', inputs=validation_inputs, targets=validation_targets)\n",
    "np.savez('Audiobooks_data_test', inputs=test_inputs, targets=test_targets)"
   ]
  }
 ],
 "metadata": {
  "interpreter": {
   "hash": "d2f06184ce90ee930cdc35773c6b612d87130e18ca930ce097c550664628ad83"
  },
  "kernelspec": {
   "display_name": "Python 3 (ipykernel)",
   "language": "python",
   "name": "python3"
  },
  "language_info": {
   "codemirror_mode": {
    "name": "ipython",
    "version": 3
   },
   "file_extension": ".py",
   "mimetype": "text/x-python",
   "name": "python",
   "nbconvert_exporter": "python",
   "pygments_lexer": "ipython3",
   "version": "3.9.7"
  }
 },
 "nbformat": 4,
 "nbformat_minor": 2
}
